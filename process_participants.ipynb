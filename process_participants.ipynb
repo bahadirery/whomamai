{
 "cells": [
  {
   "cell_type": "code",
   "execution_count": null,
   "metadata": {},
   "outputs": [],
   "source": [
    "import json\n",
    "import uuid\n",
    "\n",
    "# Path to the input template file\n",
    "input_template_path = 'participant_template.json'\n",
    "\n",
    "# Path for the output file with filled UUIDs\n",
    "output_file_path = 'filled_participant_template.json'\n",
    "\n",
    "def generate_uuids_for_template(input_path, output_path):\n",
    "    # Load the JSON template\n",
    "    with open(input_path, 'r') as file:\n",
    "        data = json.load(file)\n",
    "\n",
    "    # Function to update all relevant fields with a new UUID\n",
    "    def update_with_uuids(participant):\n",
    "        new_uuid = str(uuid.uuid4())\n",
    "        participant['id'] = new_uuid  # Update participant ID\n",
    "        \n",
    "        # Update subjectReference in all resources\n",
    "        for resource in participant.get('resources', []):\n",
    "            resource['subjectReference'] = new_uuid\n",
    "\n",
    "    update_with_uuids(data)\n",
    "\n",
    "    # Save the updated data back to a new JSON file\n",
    "    with open(output_path, 'w') as file:\n",
    "        json.dump(data, file, indent=2)\n",
    "\n",
    "# Call the function with the specified paths\n",
    "generate_uuids_for_template(input_template_path, output_file_path)\n",
    "\n",
    "print(f\"Updated template saved to {output_file_path}\")\n"
   ]
  },
  {
   "cell_type": "code",
   "execution_count": null,
   "metadata": {},
   "outputs": [],
   "source": [
    "import pandas as pd\n",
    "\n",
    "df = pd.read_csv('26_person.csv')\n",
    "\n",
    "# clear the rows\n",
    "#df = df.iloc[0:0]\n",
    "\n",
    "# for every column names filter out until first \\ but copy the splitted part to first row\n",
    "examples = df.columns.str.split('(').str[1]\n",
    "\n",
    "# make the first row the 'examples'\n",
    "# df.loc[0] = examples\n",
    "\n",
    "df.columns = df.columns.str.split('\\n').str[0]\n",
    "\n",
    "# delete the column called 'In case you are a PhD student from RTG, what is your research project number ?'\n",
    "df = df.drop('In case you are a PhD student from RTG, what is your research project number ?', axis=1)\n",
    "\n",
    "# remove 'Timestamp' column\n",
    "df = df.drop('Timestamp', axis=1)"
   ]
  },
  {
   "cell_type": "code",
   "execution_count": null,
   "metadata": {},
   "outputs": [],
   "source": [
    "df"
   ]
  },
  {
   "cell_type": "code",
   "execution_count": null,
   "metadata": {},
   "outputs": [],
   "source": [
    "# loop over each 'what is your name' and add uuid code instead\n",
    "\n",
    "import pandas as pd\n",
    "import uuid\n",
    "\n",
    "# Sample dataframe creation\n",
    "\n",
    "# Dictionary to hold name-UUID mappings\n",
    "name_uuid_mapping = {}\n",
    "\n",
    "# Loop through the column and replace each entry with a UUID\n",
    "for index, row in df.iterrows():\n",
    "    # Generate a unique UUID\n",
    "    unique_uuid = str(uuid.uuid4())\n",
    "    \n",
    "    # Store the original name and its corresponding UUID\n",
    "    name_uuid_mapping[row['What is your name?']] = unique_uuid\n",
    "    \n",
    "    # Replace the original name with the UUID in the dataframe\n",
    "    df.at[index, 'What is your name?'] = unique_uuid\n",
    "\n",
    "# The dataframe now has UUIDs instead of original names\n"
   ]
  },
  {
   "cell_type": "code",
   "execution_count": null,
   "metadata": {},
   "outputs": [],
   "source": [
    "# Assuming df is your current dataframe with UUIDs in 'name_column'\n",
    "# and name_uuid_mapping is the dictionary containing the original name-UUID mappings\n",
    "\n",
    "# Loop through the dataframe\n",
    "#for index, row in df.iterrows():\n",
    "#    # Retrieve the original name using the UUID from the dataframe\n",
    "#    original_name = [name for name, uuid in name_uuid_mapping.items() if uuid == row['What is your name?']][0]\n",
    "#    \n",
    "#    # Replace the UUID with the original name in the dataframe\n",
    "#    df.at[index, 'What is your name?'] = original_name\n",
    "\n",
    "# Now df will have the original names restored\n",
    "\n"
   ]
  },
  {
   "cell_type": "code",
   "execution_count": null,
   "metadata": {},
   "outputs": [],
   "source": [
    "name_uuid_mapping"
   ]
  },
  {
   "cell_type": "code",
   "execution_count": null,
   "metadata": {},
   "outputs": [],
   "source": [
    "# change all the 'NaN's to 'No answer'\n",
    "df = df.fillna('No answer')"
   ]
  },
  {
   "cell_type": "code",
   "execution_count": null,
   "metadata": {},
   "outputs": [],
   "source": [
    "import json\n",
    "# save uuid mapping to json file\n",
    "with open('name_uuid_mapping.json', 'w') as file:\n",
    "    json.dump(name_uuid_mapping, file)"
   ]
  },
  {
   "cell_type": "code",
   "execution_count": null,
   "metadata": {},
   "outputs": [],
   "source": [
    "#primpt column names\n"
   ]
  },
  {
   "cell_type": "code",
   "execution_count": null,
   "metadata": {},
   "outputs": [],
   "source": [
    "df.to_csv('26_person_ready.csv', index=False)"
   ]
  },
  {
   "cell_type": "code",
   "execution_count": null,
   "metadata": {},
   "outputs": [],
   "source": [
    "import csv\n",
    "import os\n",
    "import re\n",
    "\n",
    "# Define the source CSV file and the target directory for the text files\n",
    "source_csv = '26_person_ready.csv'\n",
    "target_directory = './individual_texts/'\n",
    "\n",
    "# Create the target directory if it does not exist\n",
    "if not os.path.exists(target_directory):\n",
    "    os.makedirs(target_directory)\n",
    "\n",
    "# Read the CSV file and write each row to a separate text file\n",
    "with open(source_csv, mode='r', encoding='utf-8') as csv_file:\n",
    "    csv_reader = csv.DictReader(csv_file)  # Use DictReader to access columns by name\n",
    "    \n",
    "    for row in csv_reader:\n",
    "        # Extract the name and create a valid filename from it\n",
    "        # Remove disallowed characters and spaces, replace with underscores\n",
    "        \n",
    "        name = row[\"What is your name?\"]\n",
    "        filename = re.sub(r'[^\\w\\s-]', '', name).replace(' ', '_')\n",
    "\n",
    "        row.pop('What is your name?')\n",
    "        # Define the path for the text file\n",
    "        text_file_path = os.path.join(target_directory, f'{filename}.txt')\n",
    "        \n",
    "        # Write the content to the text file, excluding the name column\n",
    "        # and any question-answer pair where the answer is 'no answer'\n",
    "        content = ' | '.join([f\"{k}: {v}\" for k, v in row.items() if v.lower() != 'no answer'])\n",
    "        with open(text_file_path, mode='w', encoding='utf-8') as text_file:\n",
    "            text_file.write(content)\n"
   ]
  },
  {
   "cell_type": "code",
   "execution_count": null,
   "metadata": {},
   "outputs": [],
   "source": []
  }
 ],
 "metadata": {
  "kernelspec": {
   "display_name": "rag",
   "language": "python",
   "name": "python3"
  },
  "language_info": {
   "codemirror_mode": {
    "name": "ipython",
    "version": 3
   },
   "file_extension": ".py",
   "mimetype": "text/x-python",
   "name": "python",
   "nbconvert_exporter": "python",
   "pygments_lexer": "ipython3",
   "version": "3.8.19"
  }
 },
 "nbformat": 4,
 "nbformat_minor": 2
}
